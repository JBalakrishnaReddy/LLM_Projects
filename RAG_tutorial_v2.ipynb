{
 "cells": [
  {
   "cell_type": "markdown",
   "metadata": {},
   "source": [
    "## All imports"
   ]
  },
  {
   "cell_type": "code",
   "execution_count": 1,
   "metadata": {},
   "outputs": [
    {
     "name": "stderr",
     "output_type": "stream",
     "text": [
      "/Users/balakrishnareddy/anaconda3/envs/llm_v1/lib/python3.12/site-packages/pydantic/_internal/_fields.py:132: UserWarning: Field \"model_name\" in HuggingFaceInferenceAPIEmbeddings has conflict with protected namespace \"model_\".\n",
      "\n",
      "You may be able to resolve this warning by setting `model_config['protected_namespaces'] = ()`.\n",
      "  warnings.warn(\n",
      "/Users/balakrishnareddy/anaconda3/envs/llm_v1/lib/python3.12/site-packages/pypdf/_crypt_providers/_cryptography.py:32: CryptographyDeprecationWarning: ARC4 has been moved to cryptography.hazmat.decrepit.ciphers.algorithms.ARC4 and will be removed from this module in 48.0.0.\n",
      "  from cryptography.hazmat.primitives.ciphers.algorithms import AES, ARC4\n"
     ]
    }
   ],
   "source": [
    "from langchain_core.documents import Document\n",
    "from langchain_community.llms import Ollama\n",
    "from langchain_text_splitters import RecursiveCharacterTextSplitter     #\n",
    "# from langchain.document_loaders.pdf import PyPDFDirectoryLoader         # For loading pdf from directories\n",
    "from langchain_community.document_loaders import PyPDFDirectoryLoader, PyPDFLoader\n",
    "from langchain_community.embeddings import HuggingFaceEmbeddings\n",
    "from langchain_ollama import OllamaEmbeddings\n",
    "from langchain_core.document_loaders import Blob\n",
    "from langchain_core.output_parsers import StrOutputParser\n",
    "from langchain_community.vectorstores import Chroma\n",
    "from langchain_community.vectorstores import FAISS      ## I am using this instead of Chroma because I only have FAISS installed currently\n",
    "from langchain.prompts import ChatPromptTemplate\n",
    "\n",
    "import pypdf\n",
    "from pypdf import PdfReader\n",
    "from typing import List"
   ]
  },
  {
   "cell_type": "markdown",
   "metadata": {},
   "source": [
    "## Just to test if the model is properly working or not"
   ]
  },
  {
   "cell_type": "code",
   "execution_count": 25,
   "metadata": {},
   "outputs": [
    {
     "data": {
      "text/plain": [
       "\"2007. The iPhone was announced by Steve Jobs, Apple's co-founder and CEO at the time, on January 9, 2007, and it went on sale to the public on June 29, 2007.\""
      ]
     },
     "execution_count": 25,
     "metadata": {},
     "output_type": "execute_result"
    }
   ],
   "source": [
    "llm = Ollama(model=\"llama3.1\")\n",
    "llm.invoke(\"Apple launched its first iphone in the year\")"
   ]
  },
  {
   "cell_type": "markdown",
   "metadata": {},
   "source": [
    "## Part - 1"
   ]
  },
  {
   "cell_type": "markdown",
   "metadata": {},
   "source": [
    "### 1. Loading the documents and splitting them"
   ]
  },
  {
   "cell_type": "code",
   "execution_count": 2,
   "metadata": {},
   "outputs": [],
   "source": [
    "def load_documents(data_path: str):\n",
    "    \"\"\"This Document loader will load the pdf documents and return the text part of the documents\"\"\"\n",
    "    document_loader = PyPDFDirectoryLoader(data_path) # There is an option to \"extract_images\" from pdf and then process them \n",
    "    return document_loader.load()\n",
    "\n",
    "\n",
    "def split_documents(documents: List[Document]):\n",
    "    \"\"\" The text splitter will split the documents such that there exists some over lap between the split docs,\n",
    "    chunks are in Document format Document(metadata={'source': ..., 'page': ...}, page_content= ' ')\"\"\"\n",
    "    text_splitter = RecursiveCharacterTextSplitter(\n",
    "        chunk_size=1000,\n",
    "        chunk_overlap=100,\n",
    "        length_function=len,\n",
    "        is_separator_regex=False,\n",
    "    )\n",
    "    return text_splitter.split_documents(documents)\n"
   ]
  },
  {
   "cell_type": "code",
   "execution_count": 3,
   "metadata": {},
   "outputs": [],
   "source": [
    "documents = load_documents(\"\")\n",
    "chunks = split_documents(documents)"
   ]
  },
  {
   "cell_type": "code",
   "execution_count": 22,
   "metadata": {},
   "outputs": [
    {
     "data": {
      "text/plain": [
       "' \\n \\n \\n \\nRef No: KIVL/BSE/SEC/ 786  \\n \\n                                                                                                                                                  September  19, 202 4  \\n \\nDepartment of Corporate Services  \\nBSE Limited  \\nFloor 25, PJ Towers Dalal Street,  \\nMumbai - 400001  \\n \\n \\nDear Sirs,  \\n \\nSub: Correction of inadvertent  error in the Book Closure Intimation in the Board Meeting Outcome of \\nthe Company dated 2nd September 2024  \\n \\nRef: Intimation dtd.02.09.2024 (Ref No: KIVL/BSE/SEC/780) about Book Closure Intimation in the \\nBoard Meeting Outcome of the Company dated 2nd September 2024  \\n \\nWith reference to the above captioned subject please note that there was an inadvertent error in the \\nBook Closure Intimation .  We request you to  note the dates of book closure  are from ( 24th September \\n2024  to 29th September 2024 )   instead of   (22nd September 2024 to 29th September 2024 ) as \\nmistakenly mentioned in the  Board Meeting outcome  dated 2nd September 2024 . \\n \\nKindly consider the same.  \\n \\nThanking you,  \\n \\nFor Kings Infra Ventures Limited  \\n \\n \\n  \\nCS Nanditha T  \\nCompany Secretary & Compliance Officer  \\n \\n \\n \\n \\n'"
      ]
     },
     "execution_count": 22,
     "metadata": {},
     "output_type": "execute_result"
    }
   ],
   "source": [
    "documents[0].page_content"
   ]
  },
  {
   "cell_type": "code",
   "execution_count": 4,
   "metadata": {},
   "outputs": [
    {
     "data": {
      "text/plain": [
       "[Document(metadata={'source': '787af145-da18-4133-bb5b-5f12a382f7c5.pdf', 'page': 0}, page_content='Ref No: KIVL/BSE/SEC/ 786  \\n \\n                                                                                                                                                  September  19, 202 4  \\n \\nDepartment of Corporate Services  \\nBSE Limited  \\nFloor 25, PJ Towers Dalal Street,  \\nMumbai - 400001  \\n \\n \\nDear Sirs,  \\n \\nSub: Correction of inadvertent  error in the Book Closure Intimation in the Board Meeting Outcome of \\nthe Company dated 2nd September 2024  \\n \\nRef: Intimation dtd.02.09.2024 (Ref No: KIVL/BSE/SEC/780) about Book Closure Intimation in the \\nBoard Meeting Outcome of the Company dated 2nd September 2024  \\n \\nWith reference to the above captioned subject please note that there was an inadvertent error in the \\nBook Closure Intimation .  We request you to  note the dates of book closure  are from ( 24th September \\n2024  to 29th September 2024 )   instead of   (22nd September 2024 to 29th September 2024 ) as'),\n",
       " Document(metadata={'source': '787af145-da18-4133-bb5b-5f12a382f7c5.pdf', 'page': 0}, page_content='2024  to 29th September 2024 )   instead of   (22nd September 2024 to 29th September 2024 ) as \\nmistakenly mentioned in the  Board Meeting outcome  dated 2nd September 2024 . \\n \\nKindly consider the same.  \\n \\nThanking you,  \\n \\nFor Kings Infra Ventures Limited  \\n \\n \\n  \\nCS Nanditha T  \\nCompany Secretary & Compliance Officer'),\n",
       " Document(metadata={'source': '100fee26-23bb-4ca6-873d-19ea3960542f.pdf', 'page': 0}, page_content='Regd. Office: B-29, EEIE Stage II, Balanagar, \\nHyderabad - 500 037, Telangana, INDIA  \\nPhone: +91-40-23079310,11,12,13, Email: info@lokeshmachines.com \\nWebsite: www.lokeshmachines.com, CIN: L29219TG1983PLC004319  \\n \\n \\n \\n \\nUnits:  Balanagar, Bonthapally, Medcha l, Toopran, Ranjangaon-Pune. \\nSeptember 19, 2024 \\n  \\nTo, \\nBSE Limited Department of Corporate Services Floor 25, PJ Towers, Dalal Street Mumbai- 400001   Scrip Code: 532740  To, \\nNational Stock Exchan ge of India Limited \\nListing Department Plot No. C/1, G Block, Exchange Plaza, Bandra Kurla Complex, Bandra(E), Mumbai- 400051  Company Code: LOKESHMACH  \\n Dear Sir/Madam,  Sub: Disclosure pursuant to Regulation 30 of  SEBI (Listing Obligations and Disclosure \\nRequirements) Regulations, 2015  In compliance with Regulation 30 of the SEBI (L isting Obligations and Disclosure Requirements) \\nRegulations, 2015 (“SEBI Listing Re gulations”), we hereby inform you that an intimation has been'),\n",
       " Document(metadata={'source': '100fee26-23bb-4ca6-873d-19ea3960542f.pdf', 'page': 0}, page_content='Regulations, 2015 (“SEBI Listing Re gulations”), we hereby inform you that an intimation has been \\nreceived from Department for Promotion of Industry  and Internal Trade, Government of India, New \\nDelhi, stating that the Licensing Committee has r ecommended for the grant of licence to Lokesh \\nMachines Limited under the Arms Act, 1959 in Form VII for the manufact ure of Fixed / Towed \\nHeavy Machine Guns of caliber above 12.7mm and up to 30mm.  \\n Date of Occurrence: September 18, 2024  Time of occurrence: 02:07 P.M. (IST)  The details/disclosures required under Regulat ion 30 and Schedule III of the SEBI Listing \\nRegulations read with SEBI Circular No. SE BI/HO/CFD/CFD-PoD-1/P/ CIR/2023/123 dated July \\n13, 2023, is enclosed as Annexure A . \\n This is for your information and records.  Thanking You,  Yours faithfully, For Lokesh Machines Limited    Gurprit Singh Company Secretary & Compliance Officer'),\n",
       " Document(metadata={'source': '100fee26-23bb-4ca6-873d-19ea3960542f.pdf', 'page': 1}, page_content='Regd. Office: B-29, EEIE Stage II, Balanagar, \\nHyderabad - 500 037, Telangana, INDIA  \\nPhone: +91-40-23079310,11,12,13, Email: info@lokeshmachines.com \\nWebsite: www.lokeshmachines.com, CIN: L29219TG1983PLC004319  \\n \\n \\n \\n \\nUnits:  Balanagar, Bonthapally, Medcha l, Toopran, Ranjangaon-Pune. \\nAnnexure-A \\n \\nDisclosures under Regulation 30 and Schedule III of  the SEBI Listing Regulations read with SEBI \\nCircular No. SEBI/HO/CFD/CFD-PoD-1/P/CIR/2023/123 dated July 13, 2023  \\n \\nS. No. Particulars Details \\na)  Name of the regulatory or licensing \\nauthority Department for Promotion of Industry and Internal \\nTrade, New Delhi. \\nb)  Brief details of the approval/license \\nobtained/ withdrawn/ surrendered Licence in Form VII for the manufacture of Fixed / \\nTowed Heavy Machine Guns of caliber above 12.7mm and up to 30mm.\\n \\nc)  Impact/relevance of such \\napproval/license to the listed entity  This will extend our existing product portfolio and'),\n",
       " Document(metadata={'source': '100fee26-23bb-4ca6-873d-19ea3960542f.pdf', 'page': 1}, page_content='approval/license to the listed entity  This will extend our existing product portfolio and \\nenable us to manufacture Fixed / Towed Heavy Machine Guns of caliber above 12.7mm and up to 30mm.\\n \\nd)  Period for which such \\napproval/license is/was valid NA subject to provisions of the Arms Act, 1959, the \\nArms Rules, 2016 and Notifications etc. issued there under on the subject from time to time.')]"
      ]
     },
     "execution_count": 4,
     "metadata": {},
     "output_type": "execute_result"
    }
   ],
   "source": [
    "chunks"
   ]
  },
  {
   "cell_type": "markdown",
   "metadata": {},
   "source": [
    "### 2. Embeddings"
   ]
  },
  {
   "cell_type": "markdown",
   "metadata": {},
   "source": [
    "### 2.1 Choosing an embeddings model and overall llm model"
   ]
  },
  {
   "cell_type": "code",
   "execution_count": 10,
   "metadata": {},
   "outputs": [],
   "source": [
    "embedding_function = OllamaEmbeddings(\n",
    "    model=\"llama3.1\",\n",
    ")\n",
    "llm = Ollama(model=\"llama3.1\")"
   ]
  },
  {
   "cell_type": "markdown",
   "metadata": {},
   "source": [
    "### 2.2 Creation of embeddings"
   ]
  },
  {
   "cell_type": "code",
   "execution_count": 11,
   "metadata": {},
   "outputs": [],
   "source": [
    "embeddings = embedding_function.embed_documents([chunk.page_content for chunk in chunks])"
   ]
  },
  {
   "cell_type": "markdown",
   "metadata": {},
   "source": [
    "### 3. Selecting suitable embedding vector database"
   ]
  },
  {
   "cell_type": "code",
   "execution_count": 9,
   "metadata": {},
   "outputs": [
    {
     "ename": "ResponseError",
     "evalue": "404 page not found",
     "output_type": "error",
     "traceback": [
      "\u001b[0;31m---------------------------------------------------------------------------\u001b[0m",
      "\u001b[0;31mResponseError\u001b[0m                             Traceback (most recent call last)",
      "Cell \u001b[0;32mIn[9], line 1\u001b[0m\n\u001b[0;32m----> 1\u001b[0m vectordb \u001b[38;5;241m=\u001b[39m FAISS\u001b[38;5;241m.\u001b[39mfrom_documents(documents\u001b[38;5;241m=\u001b[39mchunks,\n\u001b[1;32m      2\u001b[0m                       embedding\u001b[38;5;241m=\u001b[39membedding_function)\n",
      "File \u001b[0;32m~/anaconda3/envs/llm_v1/lib/python3.12/site-packages/langchain_core/vectorstores/base.py:830\u001b[0m, in \u001b[0;36mVectorStore.from_documents\u001b[0;34m(cls, documents, embedding, **kwargs)\u001b[0m\n\u001b[1;32m    828\u001b[0m texts \u001b[38;5;241m=\u001b[39m [d\u001b[38;5;241m.\u001b[39mpage_content \u001b[38;5;28;01mfor\u001b[39;00m d \u001b[38;5;129;01min\u001b[39;00m documents]\n\u001b[1;32m    829\u001b[0m metadatas \u001b[38;5;241m=\u001b[39m [d\u001b[38;5;241m.\u001b[39mmetadata \u001b[38;5;28;01mfor\u001b[39;00m d \u001b[38;5;129;01min\u001b[39;00m documents]\n\u001b[0;32m--> 830\u001b[0m \u001b[38;5;28;01mreturn\u001b[39;00m \u001b[38;5;28mcls\u001b[39m\u001b[38;5;241m.\u001b[39mfrom_texts(texts, embedding, metadatas\u001b[38;5;241m=\u001b[39mmetadatas, \u001b[38;5;241m*\u001b[39m\u001b[38;5;241m*\u001b[39mkwargs)\n",
      "File \u001b[0;32m~/anaconda3/envs/llm_v1/lib/python3.12/site-packages/langchain_community/vectorstores/faiss.py:1041\u001b[0m, in \u001b[0;36mFAISS.from_texts\u001b[0;34m(cls, texts, embedding, metadatas, ids, **kwargs)\u001b[0m\n\u001b[1;32m   1014\u001b[0m \u001b[38;5;129m@classmethod\u001b[39m\n\u001b[1;32m   1015\u001b[0m \u001b[38;5;28;01mdef\u001b[39;00m \u001b[38;5;21mfrom_texts\u001b[39m(\n\u001b[1;32m   1016\u001b[0m     \u001b[38;5;28mcls\u001b[39m,\n\u001b[0;32m   (...)\u001b[0m\n\u001b[1;32m   1021\u001b[0m     \u001b[38;5;241m*\u001b[39m\u001b[38;5;241m*\u001b[39mkwargs: Any,\n\u001b[1;32m   1022\u001b[0m ) \u001b[38;5;241m-\u001b[39m\u001b[38;5;241m>\u001b[39m FAISS:\n\u001b[1;32m   1023\u001b[0m \u001b[38;5;250m    \u001b[39m\u001b[38;5;124;03m\"\"\"Construct FAISS wrapper from raw documents.\u001b[39;00m\n\u001b[1;32m   1024\u001b[0m \n\u001b[1;32m   1025\u001b[0m \u001b[38;5;124;03m    This is a user friendly interface that:\u001b[39;00m\n\u001b[0;32m   (...)\u001b[0m\n\u001b[1;32m   1039\u001b[0m \u001b[38;5;124;03m            faiss = FAISS.from_texts(texts, embeddings)\u001b[39;00m\n\u001b[1;32m   1040\u001b[0m \u001b[38;5;124;03m    \"\"\"\u001b[39;00m\n\u001b[0;32m-> 1041\u001b[0m     embeddings \u001b[38;5;241m=\u001b[39m embedding\u001b[38;5;241m.\u001b[39membed_documents(texts)\n\u001b[1;32m   1042\u001b[0m     \u001b[38;5;28;01mreturn\u001b[39;00m \u001b[38;5;28mcls\u001b[39m\u001b[38;5;241m.\u001b[39m__from(\n\u001b[1;32m   1043\u001b[0m         texts,\n\u001b[1;32m   1044\u001b[0m         embeddings,\n\u001b[0;32m   (...)\u001b[0m\n\u001b[1;32m   1048\u001b[0m         \u001b[38;5;241m*\u001b[39m\u001b[38;5;241m*\u001b[39mkwargs,\n\u001b[1;32m   1049\u001b[0m     )\n",
      "File \u001b[0;32m~/anaconda3/envs/llm_v1/lib/python3.12/site-packages/langchain_ollama/embeddings.py:159\u001b[0m, in \u001b[0;36mOllamaEmbeddings.embed_documents\u001b[0;34m(self, texts)\u001b[0m\n\u001b[1;32m    157\u001b[0m \u001b[38;5;28;01mdef\u001b[39;00m \u001b[38;5;21membed_documents\u001b[39m(\u001b[38;5;28mself\u001b[39m, texts: List[\u001b[38;5;28mstr\u001b[39m]) \u001b[38;5;241m-\u001b[39m\u001b[38;5;241m>\u001b[39m List[List[\u001b[38;5;28mfloat\u001b[39m]]:\n\u001b[1;32m    158\u001b[0m \u001b[38;5;250m    \u001b[39m\u001b[38;5;124;03m\"\"\"Embed search docs.\"\"\"\u001b[39;00m\n\u001b[0;32m--> 159\u001b[0m     embedded_docs \u001b[38;5;241m=\u001b[39m \u001b[38;5;28mself\u001b[39m\u001b[38;5;241m.\u001b[39m_client\u001b[38;5;241m.\u001b[39membed(\u001b[38;5;28mself\u001b[39m\u001b[38;5;241m.\u001b[39mmodel, texts)[\u001b[38;5;124m\"\u001b[39m\u001b[38;5;124membeddings\u001b[39m\u001b[38;5;124m\"\u001b[39m]\n\u001b[1;32m    160\u001b[0m     \u001b[38;5;28;01mreturn\u001b[39;00m embedded_docs\n",
      "File \u001b[0;32m~/anaconda3/envs/llm_v1/lib/python3.12/site-packages/ollama/_client.py:262\u001b[0m, in \u001b[0;36mClient.embed\u001b[0;34m(self, model, input, truncate, options, keep_alive)\u001b[0m\n\u001b[1;32m    259\u001b[0m \u001b[38;5;28;01mif\u001b[39;00m \u001b[38;5;129;01mnot\u001b[39;00m model:\n\u001b[1;32m    260\u001b[0m   \u001b[38;5;28;01mraise\u001b[39;00m RequestError(\u001b[38;5;124m'\u001b[39m\u001b[38;5;124mmust provide a model\u001b[39m\u001b[38;5;124m'\u001b[39m)\n\u001b[0;32m--> 262\u001b[0m \u001b[38;5;28;01mreturn\u001b[39;00m \u001b[38;5;28mself\u001b[39m\u001b[38;5;241m.\u001b[39m_request(\n\u001b[1;32m    263\u001b[0m   \u001b[38;5;124m'\u001b[39m\u001b[38;5;124mPOST\u001b[39m\u001b[38;5;124m'\u001b[39m,\n\u001b[1;32m    264\u001b[0m   \u001b[38;5;124m'\u001b[39m\u001b[38;5;124m/api/embed\u001b[39m\u001b[38;5;124m'\u001b[39m,\n\u001b[1;32m    265\u001b[0m   json\u001b[38;5;241m=\u001b[39m{\n\u001b[1;32m    266\u001b[0m     \u001b[38;5;124m'\u001b[39m\u001b[38;5;124mmodel\u001b[39m\u001b[38;5;124m'\u001b[39m: model,\n\u001b[1;32m    267\u001b[0m     \u001b[38;5;124m'\u001b[39m\u001b[38;5;124minput\u001b[39m\u001b[38;5;124m'\u001b[39m: \u001b[38;5;28minput\u001b[39m,\n\u001b[1;32m    268\u001b[0m     \u001b[38;5;124m'\u001b[39m\u001b[38;5;124mtruncate\u001b[39m\u001b[38;5;124m'\u001b[39m: truncate,\n\u001b[1;32m    269\u001b[0m     \u001b[38;5;124m'\u001b[39m\u001b[38;5;124moptions\u001b[39m\u001b[38;5;124m'\u001b[39m: options \u001b[38;5;129;01mor\u001b[39;00m {},\n\u001b[1;32m    270\u001b[0m     \u001b[38;5;124m'\u001b[39m\u001b[38;5;124mkeep_alive\u001b[39m\u001b[38;5;124m'\u001b[39m: keep_alive,\n\u001b[1;32m    271\u001b[0m   },\n\u001b[1;32m    272\u001b[0m )\u001b[38;5;241m.\u001b[39mjson()\n",
      "File \u001b[0;32m~/anaconda3/envs/llm_v1/lib/python3.12/site-packages/ollama/_client.py:75\u001b[0m, in \u001b[0;36mClient._request\u001b[0;34m(self, method, url, **kwargs)\u001b[0m\n\u001b[1;32m     73\u001b[0m   response\u001b[38;5;241m.\u001b[39mraise_for_status()\n\u001b[1;32m     74\u001b[0m \u001b[38;5;28;01mexcept\u001b[39;00m httpx\u001b[38;5;241m.\u001b[39mHTTPStatusError \u001b[38;5;28;01mas\u001b[39;00m e:\n\u001b[0;32m---> 75\u001b[0m   \u001b[38;5;28;01mraise\u001b[39;00m ResponseError(e\u001b[38;5;241m.\u001b[39mresponse\u001b[38;5;241m.\u001b[39mtext, e\u001b[38;5;241m.\u001b[39mresponse\u001b[38;5;241m.\u001b[39mstatus_code) \u001b[38;5;28;01mfrom\u001b[39;00m \u001b[38;5;28;01mNone\u001b[39;00m\n\u001b[1;32m     77\u001b[0m \u001b[38;5;28;01mreturn\u001b[39;00m response\n",
      "\u001b[0;31mResponseError\u001b[0m: 404 page not found"
     ]
    }
   ],
   "source": [
    "vectordb = FAISS.from_documents(documents=chunks,\n",
    "                      embedding=embedding_function)\n",
    "# vectordb.save_local(\"vectorstore_fr\")"
   ]
  },
  {
   "cell_type": "code",
   "execution_count": 12,
   "metadata": {},
   "outputs": [],
   "source": [
    "vectordb = FAISS.load_local(folder_path=\"vectorstore_fr\", embeddings=embedding_function, allow_dangerous_deserialization=True)\n",
    "# FAISS.load_local()\n",
    "# FAISS.load_local()"
   ]
  },
  {
   "cell_type": "code",
   "execution_count": 16,
   "metadata": {},
   "outputs": [],
   "source": [
    "vectordb = FAISS.from_embeddings(text_embeddings=zip([chunk.page_content for chunk in chunks], embeddings), embedding=embedding_function)"
   ]
  },
  {
   "cell_type": "code",
   "execution_count": 13,
   "metadata": {},
   "outputs": [
    {
     "data": {
      "text/plain": [
       "[Document(metadata={'source': '100fee26-23bb-4ca6-873d-19ea3960542f.pdf', 'page': 1}, page_content='Regd. Office: B-29, EEIE Stage II, Balanagar, \\nHyderabad - 500 037, Telangana, INDIA  \\nPhone: +91-40-23079310,11,12,13, Email: info@lokeshmachines.com \\nWebsite: www.lokeshmachines.com, CIN: L29219TG1983PLC004319  \\n \\n \\n \\n \\nUnits:  Balanagar, Bonthapally, Medcha l, Toopran, Ranjangaon-Pune. \\nAnnexure-A \\n \\nDisclosures under Regulation 30 and Schedule III of  the SEBI Listing Regulations read with SEBI \\nCircular No. SEBI/HO/CFD/CFD-PoD-1/P/CIR/2023/123 dated July 13, 2023  \\n \\nS. No. Particulars Details \\na)  Name of the regulatory or licensing \\nauthority Department for Promotion of Industry and Internal \\nTrade, New Delhi. \\nb)  Brief details of the approval/license \\nobtained/ withdrawn/ surrendered Licence in Form VII for the manufacture of Fixed / \\nTowed Heavy Machine Guns of caliber above 12.7mm and up to 30mm.\\n \\nc)  Impact/relevance of such \\napproval/license to the listed entity  This will extend our existing product portfolio and'),\n",
       " Document(metadata={'source': '100fee26-23bb-4ca6-873d-19ea3960542f.pdf', 'page': 0}, page_content='Regd. Office: B-29, EEIE Stage II, Balanagar, \\nHyderabad - 500 037, Telangana, INDIA  \\nPhone: +91-40-23079310,11,12,13, Email: info@lokeshmachines.com \\nWebsite: www.lokeshmachines.com, CIN: L29219TG1983PLC004319  \\n \\n \\n \\n \\nUnits:  Balanagar, Bonthapally, Medcha l, Toopran, Ranjangaon-Pune. \\nSeptember 19, 2024 \\n  \\nTo, \\nBSE Limited Department of Corporate Services Floor 25, PJ Towers, Dalal Street Mumbai- 400001   Scrip Code: 532740  To, \\nNational Stock Exchan ge of India Limited \\nListing Department Plot No. C/1, G Block, Exchange Plaza, Bandra Kurla Complex, Bandra(E), Mumbai- 400051  Company Code: LOKESHMACH  \\n Dear Sir/Madam,  Sub: Disclosure pursuant to Regulation 30 of  SEBI (Listing Obligations and Disclosure \\nRequirements) Regulations, 2015  In compliance with Regulation 30 of the SEBI (L isting Obligations and Disclosure Requirements) \\nRegulations, 2015 (“SEBI Listing Re gulations”), we hereby inform you that an intimation has been'),\n",
       " Document(metadata={'source': '787af145-da18-4133-bb5b-5f12a382f7c5.pdf', 'page': 0}, page_content='2024  to 29th September 2024 )   instead of   (22nd September 2024 to 29th September 2024 ) as \\nmistakenly mentioned in the  Board Meeting outcome  dated 2nd September 2024 . \\n \\nKindly consider the same.  \\n \\nThanking you,  \\n \\nFor Kings Infra Ventures Limited  \\n \\n \\n  \\nCS Nanditha T  \\nCompany Secretary & Compliance Officer'),\n",
       " Document(metadata={'source': '100fee26-23bb-4ca6-873d-19ea3960542f.pdf', 'page': 0}, page_content='Regulations, 2015 (“SEBI Listing Re gulations”), we hereby inform you that an intimation has been \\nreceived from Department for Promotion of Industry  and Internal Trade, Government of India, New \\nDelhi, stating that the Licensing Committee has r ecommended for the grant of licence to Lokesh \\nMachines Limited under the Arms Act, 1959 in Form VII for the manufact ure of Fixed / Towed \\nHeavy Machine Guns of caliber above 12.7mm and up to 30mm.  \\n Date of Occurrence: September 18, 2024  Time of occurrence: 02:07 P.M. (IST)  The details/disclosures required under Regulat ion 30 and Schedule III of the SEBI Listing \\nRegulations read with SEBI Circular No. SE BI/HO/CFD/CFD-PoD-1/P/ CIR/2023/123 dated July \\n13, 2023, is enclosed as Annexure A . \\n This is for your information and records.  Thanking You,  Yours faithfully, For Lokesh Machines Limited    Gurprit Singh Company Secretary & Compliance Officer')]"
      ]
     },
     "execution_count": 13,
     "metadata": {},
     "output_type": "execute_result"
    }
   ],
   "source": [
    "res = vectordb.similarity_search(\"kings infra Ventures\", k=4)\n",
    "res"
   ]
  },
  {
   "cell_type": "code",
   "execution_count": 34,
   "metadata": {},
   "outputs": [
    {
     "data": {
      "text/plain": [
       "[Document(metadata={'source': '787af145-da18-4133-bb5b-5f12a382f7c5.pdf', 'page': 0}, page_content='Ref No: KIVL/BSE/SEC/ 786  \\n \\n                                                                                                                                                  September  19, 202 4  \\n \\nDepartment of Corporate Services  \\nBSE Limited  \\nFloor 25, PJ Towers Dalal Street,  \\nMumbai - 400001  \\n \\n \\nDear Sirs,  \\n \\nSub: Correction of inadvertent  error in the Book Closure Intimation in the Board Meeting Outcome of \\nthe Company dated 2nd September 2024  \\n \\nRef: Intimation dtd.02.09.2024 (Ref No: KIVL/BSE/SEC/780) about Book Closure Intimation in the \\nBoard Meeting Outcome of the Company dated 2nd September 2024  \\n \\nWith reference to the above captioned subject please note that there was an inadvertent error in the \\nBook Closure Intimation .  We request you to  note the dates of book closure  are from ( 24th September \\n2024  to 29th September 2024 )   instead of   (22nd September 2024 to 29th September 2024 ) as'),\n",
       " Document(metadata={'source': '787af145-da18-4133-bb5b-5f12a382f7c5.pdf', 'page': 0}, page_content='2024  to 29th September 2024 )   instead of   (22nd September 2024 to 29th September 2024 ) as \\nmistakenly mentioned in the  Board Meeting outcome  dated 2nd September 2024 . \\n \\nKindly consider the same.  \\n \\nThanking you,  \\n \\nFor Kings Infra Ventures Limited  \\n \\n \\n  \\nCS Nanditha T  \\nCompany Secretary & Compliance Officer'),\n",
       " Document(metadata={'source': '100fee26-23bb-4ca6-873d-19ea3960542f.pdf', 'page': 0}, page_content='Regd. Office: B-29, EEIE Stage II, Balanagar, \\nHyderabad - 500 037, Telangana, INDIA  \\nPhone: +91-40-23079310,11,12,13, Email: info@lokeshmachines.com \\nWebsite: www.lokeshmachines.com, CIN: L29219TG1983PLC004319  \\n \\n \\n \\n \\nUnits:  Balanagar, Bonthapally, Medcha l, Toopran, Ranjangaon-Pune. \\nSeptember 19, 2024 \\n  \\nTo, \\nBSE Limited Department of Corporate Services Floor 25, PJ Towers, Dalal Street Mumbai- 400001   Scrip Code: 532740  To, \\nNational Stock Exchan ge of India Limited \\nListing Department Plot No. C/1, G Block, Exchange Plaza, Bandra Kurla Complex, Bandra(E), Mumbai- 400051  Company Code: LOKESHMACH  \\n Dear Sir/Madam,  Sub: Disclosure pursuant to Regulation 30 of  SEBI (Listing Obligations and Disclosure \\nRequirements) Regulations, 2015  In compliance with Regulation 30 of the SEBI (L isting Obligations and Disclosure Requirements) \\nRegulations, 2015 (“SEBI Listing Re gulations”), we hereby inform you that an intimation has been'),\n",
       " Document(metadata={'source': '100fee26-23bb-4ca6-873d-19ea3960542f.pdf', 'page': 0}, page_content='Regulations, 2015 (“SEBI Listing Re gulations”), we hereby inform you that an intimation has been \\nreceived from Department for Promotion of Industry  and Internal Trade, Government of India, New \\nDelhi, stating that the Licensing Committee has r ecommended for the grant of licence to Lokesh \\nMachines Limited under the Arms Act, 1959 in Form VII for the manufact ure of Fixed / Towed \\nHeavy Machine Guns of caliber above 12.7mm and up to 30mm.  \\n Date of Occurrence: September 18, 2024  Time of occurrence: 02:07 P.M. (IST)  The details/disclosures required under Regulat ion 30 and Schedule III of the SEBI Listing \\nRegulations read with SEBI Circular No. SE BI/HO/CFD/CFD-PoD-1/P/ CIR/2023/123 dated July \\n13, 2023, is enclosed as Annexure A . \\n This is for your information and records.  Thanking You,  Yours faithfully, For Lokesh Machines Limited    Gurprit Singh Company Secretary & Compliance Officer'),\n",
       " Document(metadata={'source': '100fee26-23bb-4ca6-873d-19ea3960542f.pdf', 'page': 1}, page_content='Regd. Office: B-29, EEIE Stage II, Balanagar, \\nHyderabad - 500 037, Telangana, INDIA  \\nPhone: +91-40-23079310,11,12,13, Email: info@lokeshmachines.com \\nWebsite: www.lokeshmachines.com, CIN: L29219TG1983PLC004319  \\n \\n \\n \\n \\nUnits:  Balanagar, Bonthapally, Medcha l, Toopran, Ranjangaon-Pune. \\nAnnexure-A \\n \\nDisclosures under Regulation 30 and Schedule III of  the SEBI Listing Regulations read with SEBI \\nCircular No. SEBI/HO/CFD/CFD-PoD-1/P/CIR/2023/123 dated July 13, 2023  \\n \\nS. No. Particulars Details \\na)  Name of the regulatory or licensing \\nauthority Department for Promotion of Industry and Internal \\nTrade, New Delhi. \\nb)  Brief details of the approval/license \\nobtained/ withdrawn/ surrendered Licence in Form VII for the manufacture of Fixed / \\nTowed Heavy Machine Guns of caliber above 12.7mm and up to 30mm.\\n \\nc)  Impact/relevance of such \\napproval/license to the listed entity  This will extend our existing product portfolio and'),\n",
       " Document(metadata={'source': '100fee26-23bb-4ca6-873d-19ea3960542f.pdf', 'page': 1}, page_content='approval/license to the listed entity  This will extend our existing product portfolio and \\nenable us to manufacture Fixed / Towed Heavy Machine Guns of caliber above 12.7mm and up to 30mm.\\n \\nd)  Period for which such \\napproval/license is/was valid NA subject to provisions of the Arms Act, 1959, the \\nArms Rules, 2016 and Notifications etc. issued there under on the subject from time to time.')]"
      ]
     },
     "execution_count": 34,
     "metadata": {},
     "output_type": "execute_result"
    }
   ],
   "source": [
    "chunks"
   ]
  },
  {
   "cell_type": "markdown",
   "metadata": {},
   "source": [
    "### Retrieval"
   ]
  },
  {
   "cell_type": "code",
   "execution_count": 30,
   "metadata": {},
   "outputs": [
    {
     "data": {
      "text/plain": [
       "[Document(metadata={}, page_content='Regd. Office: B-29, EEIE Stage II, Balanagar, \\nHyderabad - 500 037, Telangana, INDIA  \\nPhone: +91-40-23079310,11,12,13, Email: info@lokeshmachines.com \\nWebsite: www.lokeshmachines.com, CIN: L29219TG1983PLC004319  \\n \\n \\n \\n \\nUnits:  Balanagar, Bonthapally, Medcha l, Toopran, Ranjangaon-Pune. \\nSeptember 19, 2024 \\n  \\nTo, \\nBSE Limited Department of Corporate Services Floor 25, PJ Towers, Dalal Street Mumbai- 400001   Scrip Code: 532740  To, \\nNational Stock Exchan ge of India Limited \\nListing Department Plot No. C/1, G Block, Exchange Plaza, Bandra Kurla Complex, Bandra(E), Mumbai- 400051  Company Code: LOKESHMACH  \\n Dear Sir/Madam,  Sub: Disclosure pursuant to Regulation 30 of  SEBI (Listing Obligations and Disclosure \\nRequirements) Regulations, 2015  In compliance with Regulation 30 of the SEBI (L isting Obligations and Disclosure Requirements) \\nRegulations, 2015 (“SEBI Listing Re gulations”), we hereby inform you that an intimation has been')]"
      ]
     },
     "execution_count": 30,
     "metadata": {},
     "output_type": "execute_result"
    }
   ],
   "source": [
    "res"
   ]
  },
  {
   "cell_type": "code",
   "execution_count": 15,
   "metadata": {},
   "outputs": [
    {
     "data": {
      "text/plain": [
       "ChatPromptTemplate(input_variables=['context', 'question'], input_types={}, partial_variables={}, messages=[HumanMessagePromptTemplate(prompt=PromptTemplate(input_variables=['context', 'question'], input_types={}, partial_variables={}, template='You are a financial advisor and have knowledge to read and understand financial announcements. So answer the question based only on the following context:\\n            {context}\\n            Question:{question}'), additional_kwargs={})])"
      ]
     },
     "execution_count": 15,
     "metadata": {},
     "output_type": "execute_result"
    }
   ],
   "source": [
    "template = \"\"\"You are a financial advisor and have knowledge to read and understand financial announcements. So answer the question based only on the following context:\n",
    "            {context}\n",
    "            Question:{question}\"\"\"\n",
    "prompt = ChatPromptTemplate.from_template(template=template)\n",
    "prompt\n",
    "            "
   ]
  },
  {
   "cell_type": "code",
   "execution_count": 23,
   "metadata": {},
   "outputs": [
    {
     "data": {
      "text/plain": [
       "'You are a financial advisor and have knowledge to read and understand financial announcements. So answer the question based only on the following context:\\n             \\n \\n \\n \\nRef No: KIVL/BSE/SEC/ 786  \\n \\n                                                                                                                                                  September  19, 202 4  \\n \\nDepartment of Corporate Services  \\nBSE Limited  \\nFloor 25, PJ Towers Dalal Street,  \\nMumbai - 400001  \\n \\n \\nDear Sirs,  \\n \\nSub: Correction of inadvertent  error in the Book Closure Intimation in the Board Meeting Outcome of \\nthe Company dated 2nd September 2024  \\n \\nRef: Intimation dtd.02.09.2024 (Ref No: KIVL/BSE/SEC/780) about Book Closure Intimation in the \\nBoard Meeting Outcome of the Company dated 2nd September 2024  \\n \\nWith reference to the above captioned subject please note that there was an inadvertent error in the \\nBook Closure Intimation .  We request you to  note the dates of book closure  are from ( 24th September \\n2024  to 29th September 2024 )   instead of   (22nd September 2024 to 29th September 2024 ) as \\nmistakenly mentioned in the  Board Meeting outcome  dated 2nd September 2024 . \\n \\nKindly consider the same.  \\n \\nThanking you,  \\n \\nFor Kings Infra Ventures Limited  \\n \\n \\n  \\nCS Nanditha T  \\nCompany Secretary & Compliance Officer  \\n \\n \\n \\n \\n\\n            Question:what is the date of book closure for kings infra'"
      ]
     },
     "execution_count": 23,
     "metadata": {},
     "output_type": "execute_result"
    }
   ],
   "source": [
    "prompt = template.replace(\"{context}\", documents[0].page_content ).replace(\"{question}\", \"what is the date of book closure for kings infra\")\n",
    "prompt"
   ]
  },
  {
   "cell_type": "code",
   "execution_count": 27,
   "metadata": {},
   "outputs": [
    {
     "data": {
      "text/plain": [
       "'Based on the context provided, the correct dates of book closure for Kings Infra Ventures Limited are:\\n\\n**24th September 2024 to 29th September 2024**\\n\\nThese dates supersede the previously mentioned incorrect dates (22nd September 2024 to 29th September 2024) in the Board Meeting outcome dated 2nd September 2024.'"
      ]
     },
     "execution_count": 27,
     "metadata": {},
     "output_type": "execute_result"
    }
   ],
   "source": [
    "llm.invoke(prompt)"
   ]
  },
  {
   "cell_type": "markdown",
   "metadata": {},
   "source": [
    "## Reading a result report"
   ]
  },
  {
   "cell_type": "code",
   "execution_count": 11,
   "metadata": {},
   "outputs": [
    {
     "ename": "ImportError",
     "evalue": "cannot import name 'open_filename' from 'pdfminer.utils' (/Users/balakrishnareddy/anaconda3/envs/llm_v1/lib/python3.12/site-packages/pdfminer/utils.py)",
     "output_type": "error",
     "traceback": [
      "\u001b[0;31m---------------------------------------------------------------------------\u001b[0m",
      "\u001b[0;31mImportError\u001b[0m                               Traceback (most recent call last)",
      "Cell \u001b[0;32mIn[11], line 1\u001b[0m\n\u001b[0;32m----> 1\u001b[0m \u001b[38;5;28;01mfrom\u001b[39;00m \u001b[38;5;21;01munstructured\u001b[39;00m\u001b[38;5;21;01m.\u001b[39;00m\u001b[38;5;21;01mpartition\u001b[39;00m\u001b[38;5;21;01m.\u001b[39;00m\u001b[38;5;21;01mpdf\u001b[39;00m \u001b[38;5;28;01mimport\u001b[39;00m partition_pdf\n",
      "File \u001b[0;32m~/anaconda3/envs/llm_v1/lib/python3.12/site-packages/unstructured/partition/pdf.py:17\u001b[0m\n\u001b[1;32m     15\u001b[0m \u001b[38;5;28;01mfrom\u001b[39;00m \u001b[38;5;21;01mpdfminer\u001b[39;00m\u001b[38;5;21;01m.\u001b[39;00m\u001b[38;5;21;01mlayout\u001b[39;00m \u001b[38;5;28;01mimport\u001b[39;00m LTChar, LTContainer, LTImage, LTItem, LTTextBox\n\u001b[1;32m     16\u001b[0m \u001b[38;5;28;01mfrom\u001b[39;00m \u001b[38;5;21;01mpdfminer\u001b[39;00m\u001b[38;5;21;01m.\u001b[39;00m\u001b[38;5;21;01mpdftypes\u001b[39;00m \u001b[38;5;28;01mimport\u001b[39;00m PDFObjRef\n\u001b[0;32m---> 17\u001b[0m \u001b[38;5;28;01mfrom\u001b[39;00m \u001b[38;5;21;01mpdfminer\u001b[39;00m\u001b[38;5;21;01m.\u001b[39;00m\u001b[38;5;21;01mutils\u001b[39;00m \u001b[38;5;28;01mimport\u001b[39;00m open_filename\n\u001b[1;32m     18\u001b[0m \u001b[38;5;28;01mfrom\u001b[39;00m \u001b[38;5;21;01mpi_heif\u001b[39;00m \u001b[38;5;28;01mimport\u001b[39;00m register_heif_opener\n\u001b[1;32m     19\u001b[0m \u001b[38;5;28;01mfrom\u001b[39;00m \u001b[38;5;21;01mPIL\u001b[39;00m \u001b[38;5;28;01mimport\u001b[39;00m Image \u001b[38;5;28;01mas\u001b[39;00m PILImage\n",
      "\u001b[0;31mImportError\u001b[0m: cannot import name 'open_filename' from 'pdfminer.utils' (/Users/balakrishnareddy/anaconda3/envs/llm_v1/lib/python3.12/site-packages/pdfminer/utils.py)"
     ]
    }
   ],
   "source": [
    "from unstructured.partition.pdf import partition_pdf"
   ]
  },
  {
   "cell_type": "code",
   "execution_count": 9,
   "metadata": {},
   "outputs": [],
   "source": [
    "PROJECT_ID = \"YOUR_PROJECT_ID\"  # @param {type:\"string\"}\n",
    "LOCATION = \"us-central1\"  # @param {type:\"string\"}\n",
    "\n",
    "# For Vector Search Staging\n",
    "GCS_BUCKET = \"YOUR_BUCKET_NAME\"  # @param {type:\"string\"}\n",
    "GCS_BUCKET_URI = f\"gs://{GCS_BUCKET}\""
   ]
  },
  {
   "cell_type": "markdown",
   "metadata": {},
   "source": [
    "### Using Pymupdf for reading table data from pdf."
   ]
  },
  {
   "cell_type": "code",
   "execution_count": 28,
   "metadata": {},
   "outputs": [],
   "source": [
    "data_url = \"https://www.bseindia.com/xml-data/corpfiling/AttachLive/bba9ac32-1e95-4c4a-a1fb-7ca9742c180e.pdf\""
   ]
  },
  {
   "cell_type": "code",
   "execution_count": 36,
   "metadata": {},
   "outputs": [],
   "source": [
    "import requests\n",
    "import pymupdf "
   ]
  },
  {
   "cell_type": "code",
   "execution_count": 32,
   "metadata": {},
   "outputs": [],
   "source": [
    "\n",
    "headers = {'User-Agent': 'Mozilla/5.0 (Macintosh; Intel Mac OS X 10_10_1) AppleWebKit/537.36 (KHTML, like Gecko) Chrome/39.0.2171.95 Safari/537.36'}\n",
    "\n",
    "response = requests.get(data_url, headers=headers)"
   ]
  },
  {
   "cell_type": "code",
   "execution_count": 33,
   "metadata": {},
   "outputs": [
    {
     "data": {
      "text/plain": [
       "200"
      ]
     },
     "execution_count": 33,
     "metadata": {},
     "output_type": "execute_result"
    }
   ],
   "source": [
    "response.status_code"
   ]
  },
  {
   "cell_type": "code",
   "execution_count": 40,
   "metadata": {},
   "outputs": [],
   "source": [
    "with open(\"bba9ac32-1e95-4c4a-a1fb-7ca9742c180e.pdf\", 'wb') as f: f.write(response.content)"
   ]
  },
  {
   "cell_type": "code",
   "execution_count": 41,
   "metadata": {},
   "outputs": [],
   "source": [
    "doc = pymupdf.open(\"bba9ac32-1e95-4c4a-a1fb-7ca9742c180e.pdf\")"
   ]
  },
  {
   "cell_type": "code",
   "execution_count": 51,
   "metadata": {},
   "outputs": [
    {
     "name": "stdout",
     "output_type": "stream",
     "text": [
      "0 table(s) on page 0 of bba9ac32-1e95-4c4a-a1fb-7ca9742c180e.pdf\n",
      "3 table(s) on page 1 of bba9ac32-1e95-4c4a-a1fb-7ca9742c180e.pdf\n",
      "[<class 'pymupdf.table.Table'>, <class 'pymupdf.table.Table'>, <class 'pymupdf.table.Table'>]\n",
      "1 table(s) on page 2 of bba9ac32-1e95-4c4a-a1fb-7ca9742c180e.pdf\n",
      "[<class 'pymupdf.table.Table'>]\n",
      "0 table(s) on page 3 of bba9ac32-1e95-4c4a-a1fb-7ca9742c180e.pdf\n",
      "2 table(s) on page 4 of bba9ac32-1e95-4c4a-a1fb-7ca9742c180e.pdf\n",
      "[<class 'pymupdf.table.Table'>, <class 'pymupdf.table.Table'>]\n",
      "1 table(s) on page 5 of bba9ac32-1e95-4c4a-a1fb-7ca9742c180e.pdf\n",
      "[<class 'pymupdf.table.Table'>]\n",
      "1 table(s) on page 6 of bba9ac32-1e95-4c4a-a1fb-7ca9742c180e.pdf\n",
      "[<class 'pymupdf.table.Table'>]\n",
      "1 table(s) on page 7 of bba9ac32-1e95-4c4a-a1fb-7ca9742c180e.pdf\n",
      "[<class 'pymupdf.table.Table'>]\n",
      "1 table(s) on page 8 of bba9ac32-1e95-4c4a-a1fb-7ca9742c180e.pdf\n",
      "[<class 'pymupdf.table.Table'>]\n",
      "0 table(s) on page 9 of bba9ac32-1e95-4c4a-a1fb-7ca9742c180e.pdf\n",
      "1 table(s) on page 10 of bba9ac32-1e95-4c4a-a1fb-7ca9742c180e.pdf\n",
      "[<class 'pymupdf.table.Table'>]\n",
      "1 table(s) on page 11 of bba9ac32-1e95-4c4a-a1fb-7ca9742c180e.pdf\n",
      "[<class 'pymupdf.table.Table'>]\n",
      "3 table(s) on page 12 of bba9ac32-1e95-4c4a-a1fb-7ca9742c180e.pdf\n",
      "[<class 'pymupdf.table.Table'>, <class 'pymupdf.table.Table'>, <class 'pymupdf.table.Table'>]\n",
      "1 table(s) on page 13 of bba9ac32-1e95-4c4a-a1fb-7ca9742c180e.pdf\n",
      "[<class 'pymupdf.table.Table'>]\n",
      "0 table(s) on page 14 of bba9ac32-1e95-4c4a-a1fb-7ca9742c180e.pdf\n",
      "1 table(s) on page 15 of bba9ac32-1e95-4c4a-a1fb-7ca9742c180e.pdf\n",
      "[<class 'pymupdf.table.Table'>]\n",
      "1 table(s) on page 16 of bba9ac32-1e95-4c4a-a1fb-7ca9742c180e.pdf\n",
      "[<class 'pymupdf.table.Table'>]\n",
      "0 table(s) on page 17 of bba9ac32-1e95-4c4a-a1fb-7ca9742c180e.pdf\n",
      "1 table(s) on page 18 of bba9ac32-1e95-4c4a-a1fb-7ca9742c180e.pdf\n",
      "[<class 'pymupdf.table.Table'>]\n",
      "1 table(s) on page 19 of bba9ac32-1e95-4c4a-a1fb-7ca9742c180e.pdf\n",
      "[<class 'pymupdf.table.Table'>]\n"
     ]
    }
   ],
   "source": [
    "for i in doc:\n",
    "    tabs = i.find_tables()\n",
    "    print(f\"{len(tabs.tables)} table(s) on {i}\")\n",
    "    if len(tabs.tables) > 0:\n",
    "        print([type(j) for j in tabs])\n",
    "    # if len(tabs.tables) > 0:\n",
    "    #     for tab in tabs:\n",
    "    #         display(tab.to_pandas())\n"
   ]
  },
  {
   "cell_type": "code",
   "execution_count": 53,
   "metadata": {},
   "outputs": [],
   "source": [
    "table_data = doc[6].find_tables()"
   ]
  },
  {
   "cell_type": "code",
   "execution_count": 62,
   "metadata": {},
   "outputs": [
    {
     "data": {
      "text/html": [
       "<div>\n",
       "<style scoped>\n",
       "    .dataframe tbody tr th:only-of-type {\n",
       "        vertical-align: middle;\n",
       "    }\n",
       "\n",
       "    .dataframe tbody tr th {\n",
       "        vertical-align: top;\n",
       "    }\n",
       "\n",
       "    .dataframe thead th {\n",
       "        text-align: right;\n",
       "    }\n",
       "</style>\n",
       "<table border=\"1\" class=\"dataframe\">\n",
       "  <thead>\n",
       "    <tr style=\"text-align: right;\">\n",
       "      <th></th>\n",
       "      <th>TATA CONSULTANCY SERVICES LIMITED\\nRegistered Office: 9th Floor, Nirmal Building, Nariman Point, Mumbai 400 021\\nCIN: L22210MH1995PLC084781\\nTel: +91 22 6778 9595 e-mail: investor.relations@tcs.com Website: www.tcs.com\\nAudited Consolidated Interim Statement of Financial Results\\n( crore)</th>\n",
       "      <th>Col1</th>\n",
       "      <th>Col2</th>\n",
       "      <th>Col3</th>\n",
       "      <th>Col4</th>\n",
       "      <th>Col5</th>\n",
       "      <th>Col6</th>\n",
       "    </tr>\n",
       "  </thead>\n",
       "  <tbody>\n",
       "    <tr>\n",
       "      <th>0</th>\n",
       "      <td></td>\n",
       "      <td>Three months ended</td>\n",
       "      <td>None</td>\n",
       "      <td>None</td>\n",
       "      <td>Six months ended</td>\n",
       "      <td>None</td>\n",
       "      <td>Year ended</td>\n",
       "    </tr>\n",
       "    <tr>\n",
       "      <th>1</th>\n",
       "      <td>None</td>\n",
       "      <td>September 30,\\n2024</td>\n",
       "      <td>June 30,\\n2024</td>\n",
       "      <td>September 30,\\n2023</td>\n",
       "      <td>September 30,\\n2024</td>\n",
       "      <td>September 30,\\n2023</td>\n",
       "      <td>March 31,\\n2024</td>\n",
       "    </tr>\n",
       "    <tr>\n",
       "      <th>2</th>\n",
       "      <td>Revenue from operations\\nOther income\\nTOTAL I...</td>\n",
       "      <td>64,259\\n729</td>\n",
       "      <td>62,613\\n962</td>\n",
       "      <td>59,692\\n1,006</td>\n",
       "      <td>1,26,872\\n1,691</td>\n",
       "      <td>1,19,073\\n2,403</td>\n",
       "      <td>2,40,893\\n4,422</td>\n",
       "    </tr>\n",
       "    <tr>\n",
       "      <th>3</th>\n",
       "      <td>None</td>\n",
       "      <td>64,988</td>\n",
       "      <td>63,575</td>\n",
       "      <td>60,698</td>\n",
       "      <td>1,28,563</td>\n",
       "      <td>1,21,476</td>\n",
       "      <td>2,45,315</td>\n",
       "    </tr>\n",
       "    <tr>\n",
       "      <th>4</th>\n",
       "      <td>None</td>\n",
       "      <td>36,654\\n3,230\\n162\\n1,266\\n7,644</td>\n",
       "      <td>36,416\\n2,151\\n173\\n1,220\\n7,384</td>\n",
       "      <td>35,123\\n462\\n159\\n1,263\\n8,361</td>\n",
       "      <td>73,070\\n5,381\\n335\\n2,486\\n15,028</td>\n",
       "      <td>70,271\\n968\\n322\\n2,506\\n17,090</td>\n",
       "      <td>1,40,131\\n3,702\\n778\\n4,985\\n32,764</td>\n",
       "    </tr>\n",
       "    <tr>\n",
       "      <th>5</th>\n",
       "      <td>None</td>\n",
       "      <td>48,956</td>\n",
       "      <td>47,344</td>\n",
       "      <td>45,368</td>\n",
       "      <td>96,300</td>\n",
       "      <td>91,157</td>\n",
       "      <td>1,82,360</td>\n",
       "    </tr>\n",
       "    <tr>\n",
       "      <th>6</th>\n",
       "      <td>None</td>\n",
       "      <td>16,032\\n-</td>\n",
       "      <td>16,231\\n-</td>\n",
       "      <td>15,330\\n-</td>\n",
       "      <td>32,263\\n-</td>\n",
       "      <td>30,319\\n-</td>\n",
       "      <td>62,955\\n958</td>\n",
       "    </tr>\n",
       "    <tr>\n",
       "      <th>7</th>\n",
       "      <td>None</td>\n",
       "      <td>16,032\\n4,078\\n(1)</td>\n",
       "      <td>16,231\\n4,290\\n(164)</td>\n",
       "      <td>15,330\\n3,955\\n(5)</td>\n",
       "      <td>32,263\\n8,368\\n(165)</td>\n",
       "      <td>30,319\\n7,823\\n(4)</td>\n",
       "      <td>61,997\\n15,864\\n34</td>\n",
       "    </tr>\n",
       "    <tr>\n",
       "      <th>8</th>\n",
       "      <td>None</td>\n",
       "      <td>4,077</td>\n",
       "      <td>4,126</td>\n",
       "      <td>3,950</td>\n",
       "      <td>8,203</td>\n",
       "      <td>7,819</td>\n",
       "      <td>15,898</td>\n",
       "    </tr>\n",
       "    <tr>\n",
       "      <th>9</th>\n",
       "      <td>None</td>\n",
       "      <td>11,955</td>\n",
       "      <td>12,105</td>\n",
       "      <td>11,380</td>\n",
       "      <td>24,060</td>\n",
       "      <td>22,500</td>\n",
       "      <td>46,099</td>\n",
       "    </tr>\n",
       "    <tr>\n",
       "      <th>10</th>\n",
       "      <td>None</td>\n",
       "      <td>(38)\\n(12)\\n10\\n392\\n(14)\\n(23)\\n835\\n(89)</td>\n",
       "      <td>51\\n-\\n(18)\\n54\\n4\\n1\\n(292)\\n(14)</td>\n",
       "      <td>(9)\\n-\\n-\\n(171)\\n64\\n(11)\\n(124)\\n33</td>\n",
       "      <td>13\\n(12)\\n(8)\\n446\\n(10)\\n(22)\\n543\\n(103)</td>\n",
       "      <td>5\\n-\\n(8)\\n(25)\\n74\\n(2)\\n(196)\\n14</td>\n",
       "      <td>(2)\\n(6)\\n(11)\\n237\\n1\\n13\\n44\\n(39)</td>\n",
       "    </tr>\n",
       "    <tr>\n",
       "      <th>11</th>\n",
       "      <td>None</td>\n",
       "      <td>1,061</td>\n",
       "      <td>(214)</td>\n",
       "      <td>(218)</td>\n",
       "      <td>847</td>\n",
       "      <td>(138)</td>\n",
       "      <td>237</td>\n",
       "    </tr>\n",
       "    <tr>\n",
       "      <th>12</th>\n",
       "      <td>None</td>\n",
       "      <td>13,016</td>\n",
       "      <td>11,891</td>\n",
       "      <td>11,162</td>\n",
       "      <td>24,907</td>\n",
       "      <td>22,362</td>\n",
       "      <td>46,336</td>\n",
       "    </tr>\n",
       "    <tr>\n",
       "      <th>13</th>\n",
       "      <td>None</td>\n",
       "      <td>11,909\\n46</td>\n",
       "      <td>12,040\\n65</td>\n",
       "      <td>11,342\\n38</td>\n",
       "      <td>23,949\\n111</td>\n",
       "      <td>22,416\\n84</td>\n",
       "      <td>45,908\\n191</td>\n",
       "    </tr>\n",
       "    <tr>\n",
       "      <th>14</th>\n",
       "      <td>None</td>\n",
       "      <td>11,955</td>\n",
       "      <td>12,105</td>\n",
       "      <td>11,380</td>\n",
       "      <td>24,060</td>\n",
       "      <td>22,500</td>\n",
       "      <td>46,099</td>\n",
       "    </tr>\n",
       "    <tr>\n",
       "      <th>15</th>\n",
       "      <td>None</td>\n",
       "      <td>987\\n74</td>\n",
       "      <td>(181)\\n(33)</td>\n",
       "      <td>(210)\\n(8)</td>\n",
       "      <td>806\\n41</td>\n",
       "      <td>(84)\\n(54)</td>\n",
       "      <td>299\\n(62)</td>\n",
       "    </tr>\n",
       "    <tr>\n",
       "      <th>16</th>\n",
       "      <td>None</td>\n",
       "      <td>1,061</td>\n",
       "      <td>(214)</td>\n",
       "      <td>(218)</td>\n",
       "      <td>847</td>\n",
       "      <td>(138)</td>\n",
       "      <td>237</td>\n",
       "    </tr>\n",
       "    <tr>\n",
       "      <th>17</th>\n",
       "      <td>None</td>\n",
       "      <td>12,896\\n120</td>\n",
       "      <td>11,859\\n32</td>\n",
       "      <td>11,132\\n30</td>\n",
       "      <td>24,755\\n152</td>\n",
       "      <td>22,332\\n30</td>\n",
       "      <td>46,207\\n129</td>\n",
       "    </tr>\n",
       "    <tr>\n",
       "      <th>18</th>\n",
       "      <td>None</td>\n",
       "      <td>13,016</td>\n",
       "      <td>11,891</td>\n",
       "      <td>11,162</td>\n",
       "      <td>24,907</td>\n",
       "      <td>22,362</td>\n",
       "      <td>46,336</td>\n",
       "    </tr>\n",
       "    <tr>\n",
       "      <th>19</th>\n",
       "      <td>Paid up equity share capital (Face value: 1 pe...</td>\n",
       "      <td>362</td>\n",
       "      <td>362</td>\n",
       "      <td>366</td>\n",
       "      <td>362</td>\n",
       "      <td>366</td>\n",
       "      <td>362\\n90,957</td>\n",
       "    </tr>\n",
       "    <tr>\n",
       "      <th>20</th>\n",
       "      <td>Earnings per equity share:- Basic and diluted ...</td>\n",
       "      <td>32.92\\n10.00\\n-\\n10.00\\n1,000</td>\n",
       "      <td>33.28\\n10.00\\n-\\n10.00\\n1,000</td>\n",
       "      <td>31.00\\n9.00\\n-\\n9.00\\n900</td>\n",
       "      <td>66.20\\n20.00\\n-\\n20.00\\n2,000</td>\n",
       "      <td>61.26\\n18.00\\n-\\n18.00\\n1,800</td>\n",
       "      <td>125.88\\n45.00\\n28.00\\n73.00\\n7,300</td>\n",
       "    </tr>\n",
       "  </tbody>\n",
       "</table>\n",
       "</div>"
      ],
      "text/plain": [
       "   TATA CONSULTANCY SERVICES LIMITED\\nRegistered Office: 9th Floor, Nirmal Building, Nariman Point, Mumbai 400 021\\nCIN: L22210MH1995PLC084781\\nTel: +91 22 6778 9595 e-mail: investor.relations@tcs.com Website: www.tcs.com\\nAudited Consolidated Interim Statement of Financial Results\\n( crore)  \\\n",
       "0                                                                                                                                                                                                                                                                                                      \n",
       "1                                                None                                                                                                                                                                                                                                                  \n",
       "2   Revenue from operations\\nOther income\\nTOTAL I...                                                                                                                                                                                                                                                  \n",
       "3                                                None                                                                                                                                                                                                                                                  \n",
       "4                                                None                                                                                                                                                                                                                                                  \n",
       "5                                                None                                                                                                                                                                                                                                                  \n",
       "6                                                None                                                                                                                                                                                                                                                  \n",
       "7                                                None                                                                                                                                                                                                                                                  \n",
       "8                                                None                                                                                                                                                                                                                                                  \n",
       "9                                                None                                                                                                                                                                                                                                                  \n",
       "10                                               None                                                                                                                                                                                                                                                  \n",
       "11                                               None                                                                                                                                                                                                                                                  \n",
       "12                                               None                                                                                                                                                                                                                                                  \n",
       "13                                               None                                                                                                                                                                                                                                                  \n",
       "14                                               None                                                                                                                                                                                                                                                  \n",
       "15                                               None                                                                                                                                                                                                                                                  \n",
       "16                                               None                                                                                                                                                                                                                                                  \n",
       "17                                               None                                                                                                                                                                                                                                                  \n",
       "18                                               None                                                                                                                                                                                                                                                  \n",
       "19  Paid up equity share capital (Face value: 1 pe...                                                                                                                                                                                                                                                  \n",
       "20  Earnings per equity share:- Basic and diluted ...                                                                                                                                                                                                                                                  \n",
       "\n",
       "                                          Col1  \\\n",
       "0                           Three months ended   \n",
       "1                          September 30,\\n2024   \n",
       "2                                  64,259\\n729   \n",
       "3                                       64,988   \n",
       "4             36,654\\n3,230\\n162\\n1,266\\n7,644   \n",
       "5                                       48,956   \n",
       "6                                    16,032\\n-   \n",
       "7                           16,032\\n4,078\\n(1)   \n",
       "8                                        4,077   \n",
       "9                                       11,955   \n",
       "10  (38)\\n(12)\\n10\\n392\\n(14)\\n(23)\\n835\\n(89)   \n",
       "11                                       1,061   \n",
       "12                                      13,016   \n",
       "13                                  11,909\\n46   \n",
       "14                                      11,955   \n",
       "15                                     987\\n74   \n",
       "16                                       1,061   \n",
       "17                                 12,896\\n120   \n",
       "18                                      13,016   \n",
       "19                                         362   \n",
       "20               32.92\\n10.00\\n-\\n10.00\\n1,000   \n",
       "\n",
       "                                  Col2                                   Col3  \\\n",
       "0                                 None                                   None   \n",
       "1                       June 30,\\n2024                    September 30,\\n2023   \n",
       "2                          62,613\\n962                          59,692\\n1,006   \n",
       "3                               63,575                                 60,698   \n",
       "4     36,416\\n2,151\\n173\\n1,220\\n7,384         35,123\\n462\\n159\\n1,263\\n8,361   \n",
       "5                               47,344                                 45,368   \n",
       "6                            16,231\\n-                              15,330\\n-   \n",
       "7                 16,231\\n4,290\\n(164)                     15,330\\n3,955\\n(5)   \n",
       "8                                4,126                                  3,950   \n",
       "9                               12,105                                 11,380   \n",
       "10  51\\n-\\n(18)\\n54\\n4\\n1\\n(292)\\n(14)  (9)\\n-\\n-\\n(171)\\n64\\n(11)\\n(124)\\n33   \n",
       "11                               (214)                                  (218)   \n",
       "12                              11,891                                 11,162   \n",
       "13                          12,040\\n65                             11,342\\n38   \n",
       "14                              12,105                                 11,380   \n",
       "15                         (181)\\n(33)                             (210)\\n(8)   \n",
       "16                               (214)                                  (218)   \n",
       "17                          11,859\\n32                             11,132\\n30   \n",
       "18                              11,891                                 11,162   \n",
       "19                                 362                                    366   \n",
       "20       33.28\\n10.00\\n-\\n10.00\\n1,000              31.00\\n9.00\\n-\\n9.00\\n900   \n",
       "\n",
       "                                          Col4  \\\n",
       "0                             Six months ended   \n",
       "1                          September 30,\\n2024   \n",
       "2                              1,26,872\\n1,691   \n",
       "3                                     1,28,563   \n",
       "4            73,070\\n5,381\\n335\\n2,486\\n15,028   \n",
       "5                                       96,300   \n",
       "6                                    32,263\\n-   \n",
       "7                         32,263\\n8,368\\n(165)   \n",
       "8                                        8,203   \n",
       "9                                       24,060   \n",
       "10  13\\n(12)\\n(8)\\n446\\n(10)\\n(22)\\n543\\n(103)   \n",
       "11                                         847   \n",
       "12                                      24,907   \n",
       "13                                 23,949\\n111   \n",
       "14                                      24,060   \n",
       "15                                     806\\n41   \n",
       "16                                         847   \n",
       "17                                 24,755\\n152   \n",
       "18                                      24,907   \n",
       "19                                         362   \n",
       "20               66.20\\n20.00\\n-\\n20.00\\n2,000   \n",
       "\n",
       "                                   Col5                                  Col6  \n",
       "0                                  None                            Year ended  \n",
       "1                   September 30,\\n2023                       March 31,\\n2024  \n",
       "2                       1,19,073\\n2,403                       2,40,893\\n4,422  \n",
       "3                              1,21,476                              2,45,315  \n",
       "4       70,271\\n968\\n322\\n2,506\\n17,090   1,40,131\\n3,702\\n778\\n4,985\\n32,764  \n",
       "5                                91,157                              1,82,360  \n",
       "6                             30,319\\n-                           62,955\\n958  \n",
       "7                    30,319\\n7,823\\n(4)                    61,997\\n15,864\\n34  \n",
       "8                                 7,819                                15,898  \n",
       "9                                22,500                                46,099  \n",
       "10  5\\n-\\n(8)\\n(25)\\n74\\n(2)\\n(196)\\n14  (2)\\n(6)\\n(11)\\n237\\n1\\n13\\n44\\n(39)  \n",
       "11                                (138)                                   237  \n",
       "12                               22,362                                46,336  \n",
       "13                           22,416\\n84                           45,908\\n191  \n",
       "14                               22,500                                46,099  \n",
       "15                           (84)\\n(54)                             299\\n(62)  \n",
       "16                                (138)                                   237  \n",
       "17                           22,332\\n30                           46,207\\n129  \n",
       "18                               22,362                                46,336  \n",
       "19                                  366                           362\\n90,957  \n",
       "20        61.26\\n18.00\\n-\\n18.00\\n1,800    125.88\\n45.00\\n28.00\\n73.00\\n7,300  "
      ]
     },
     "execution_count": 62,
     "metadata": {},
     "output_type": "execute_result"
    }
   ],
   "source": [
    "table_data.tables[0].to_pandas()"
   ]
  },
  {
   "cell_type": "code",
   "execution_count": null,
   "metadata": {},
   "outputs": [],
   "source": []
  },
  {
   "cell_type": "code",
   "execution_count": null,
   "metadata": {},
   "outputs": [],
   "source": []
  },
  {
   "cell_type": "code",
   "execution_count": null,
   "metadata": {},
   "outputs": [],
   "source": []
  },
  {
   "cell_type": "code",
   "execution_count": null,
   "metadata": {},
   "outputs": [],
   "source": []
  },
  {
   "cell_type": "markdown",
   "metadata": {},
   "source": [
    "## Scratch"
   ]
  },
  {
   "cell_type": "code",
   "execution_count": 5,
   "metadata": {},
   "outputs": [
    {
     "data": {
      "text/plain": [
       "[Document(metadata={'source': '787af145-da18-4133-bb5b-5f12a382f7c5.pdf', 'page': 0}, page_content='Ref No: KIVL/BSE/SEC/ 786  \\n \\n                                                                                                                                                  September  19, 202 4  \\n \\nDepartment of Corporate Services  \\nBSE Limited  \\nFloor 25, PJ Towers Dalal Street,  \\nMumbai - 400001  \\n \\n \\nDear Sirs,  \\n \\nSub: Correction of inadvertent  error in the Book Closure Intimation in the Board Meeting Outcome of \\nthe Company dated 2nd September 2024  \\n \\nRef: Intimation dtd.02.09.2024 (Ref No: KIVL/BSE/SEC/780) about Book Closure Intimation in the \\nBoard Meeting Outcome of the Company dated 2nd September 2024  \\n \\nWith reference to the above captioned subject please note that there was an inadvertent error in the \\nBook Closure Intimation .  We request you to  note the dates of book closure  are from ( 24th September \\n2024  to 29th September 2024 )   instead of   (22nd September 2024 to 29th September 2024 ) as'),\n",
       " Document(metadata={'source': '787af145-da18-4133-bb5b-5f12a382f7c5.pdf', 'page': 0}, page_content='2024  to 29th September 2024 )   instead of   (22nd September 2024 to 29th September 2024 ) as \\nmistakenly mentioned in the  Board Meeting outcome  dated 2nd September 2024 . \\n \\nKindly consider the same.  \\n \\nThanking you,  \\n \\nFor Kings Infra Ventures Limited  \\n \\n \\n  \\nCS Nanditha T  \\nCompany Secretary & Compliance Officer'),\n",
       " Document(metadata={'source': '100fee26-23bb-4ca6-873d-19ea3960542f.pdf', 'page': 0}, page_content='Regd. Office: B-29, EEIE Stage II, Balanagar, \\nHyderabad - 500 037, Telangana, INDIA  \\nPhone: +91-40-23079310,11,12,13, Email: info@lokeshmachines.com \\nWebsite: www.lokeshmachines.com, CIN: L29219TG1983PLC004319  \\n \\n \\n \\n \\nUnits:  Balanagar, Bonthapally, Medcha l, Toopran, Ranjangaon-Pune. \\nSeptember 19, 2024 \\n  \\nTo, \\nBSE Limited Department of Corporate Services Floor 25, PJ Towers, Dalal Street Mumbai- 400001   Scrip Code: 532740  To, \\nNational Stock Exchan ge of India Limited \\nListing Department Plot No. C/1, G Block, Exchange Plaza, Bandra Kurla Complex, Bandra(E), Mumbai- 400051  Company Code: LOKESHMACH  \\n Dear Sir/Madam,  Sub: Disclosure pursuant to Regulation 30 of  SEBI (Listing Obligations and Disclosure \\nRequirements) Regulations, 2015  In compliance with Regulation 30 of the SEBI (L isting Obligations and Disclosure Requirements) \\nRegulations, 2015 (“SEBI Listing Re gulations”), we hereby inform you that an intimation has been'),\n",
       " Document(metadata={'source': '100fee26-23bb-4ca6-873d-19ea3960542f.pdf', 'page': 0}, page_content='Regulations, 2015 (“SEBI Listing Re gulations”), we hereby inform you that an intimation has been \\nreceived from Department for Promotion of Industry  and Internal Trade, Government of India, New \\nDelhi, stating that the Licensing Committee has r ecommended for the grant of licence to Lokesh \\nMachines Limited under the Arms Act, 1959 in Form VII for the manufact ure of Fixed / Towed \\nHeavy Machine Guns of caliber above 12.7mm and up to 30mm.  \\n Date of Occurrence: September 18, 2024  Time of occurrence: 02:07 P.M. (IST)  The details/disclosures required under Regulat ion 30 and Schedule III of the SEBI Listing \\nRegulations read with SEBI Circular No. SE BI/HO/CFD/CFD-PoD-1/P/ CIR/2023/123 dated July \\n13, 2023, is enclosed as Annexure A . \\n This is for your information and records.  Thanking You,  Yours faithfully, For Lokesh Machines Limited    Gurprit Singh Company Secretary & Compliance Officer'),\n",
       " Document(metadata={'source': '100fee26-23bb-4ca6-873d-19ea3960542f.pdf', 'page': 1}, page_content='Regd. Office: B-29, EEIE Stage II, Balanagar, \\nHyderabad - 500 037, Telangana, INDIA  \\nPhone: +91-40-23079310,11,12,13, Email: info@lokeshmachines.com \\nWebsite: www.lokeshmachines.com, CIN: L29219TG1983PLC004319  \\n \\n \\n \\n \\nUnits:  Balanagar, Bonthapally, Medcha l, Toopran, Ranjangaon-Pune. \\nAnnexure-A \\n \\nDisclosures under Regulation 30 and Schedule III of  the SEBI Listing Regulations read with SEBI \\nCircular No. SEBI/HO/CFD/CFD-PoD-1/P/CIR/2023/123 dated July 13, 2023  \\n \\nS. No. Particulars Details \\na)  Name of the regulatory or licensing \\nauthority Department for Promotion of Industry and Internal \\nTrade, New Delhi. \\nb)  Brief details of the approval/license \\nobtained/ withdrawn/ surrendered Licence in Form VII for the manufacture of Fixed / \\nTowed Heavy Machine Guns of caliber above 12.7mm and up to 30mm.\\n \\nc)  Impact/relevance of such \\napproval/license to the listed entity  This will extend our existing product portfolio and'),\n",
       " Document(metadata={'source': '100fee26-23bb-4ca6-873d-19ea3960542f.pdf', 'page': 1}, page_content='approval/license to the listed entity  This will extend our existing product portfolio and \\nenable us to manufacture Fixed / Towed Heavy Machine Guns of caliber above 12.7mm and up to 30mm.\\n \\nd)  Period for which such \\napproval/license is/was valid NA subject to provisions of the Arms Act, 1959, the \\nArms Rules, 2016 and Notifications etc. issued there under on the subject from time to time.')]"
      ]
     },
     "execution_count": 5,
     "metadata": {},
     "output_type": "execute_result"
    }
   ],
   "source": [
    "chunks"
   ]
  },
  {
   "cell_type": "code",
   "execution_count": null,
   "metadata": {},
   "outputs": [],
   "source": []
  }
 ],
 "metadata": {
  "kernelspec": {
   "display_name": "llm_v1",
   "language": "python",
   "name": "python3"
  },
  "language_info": {
   "codemirror_mode": {
    "name": "ipython",
    "version": 3
   },
   "file_extension": ".py",
   "mimetype": "text/x-python",
   "name": "python",
   "nbconvert_exporter": "python",
   "pygments_lexer": "ipython3",
   "version": "3.12.6"
  }
 },
 "nbformat": 4,
 "nbformat_minor": 2
}
